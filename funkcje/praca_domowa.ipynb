{
 "cells": [
  {
   "cell_type": "code",
   "execution_count": 9,
   "metadata": {},
   "outputs": [
    {
     "ename": "SyntaxError",
     "evalue": "invalid syntax (<ipython-input-9-ab661336a014>, line 5)",
     "traceback": [
      "\u001b[1;36m  File \u001b[1;32m\"<ipython-input-9-ab661336a014>\"\u001b[1;36m, line \u001b[1;32m5\u001b[0m\n\u001b[1;33m    Napisz funkcję (lub funkcje), które zwrócą maksymalną spośród 3 liczb.\u001b[0m\n\u001b[1;37m                 ^\u001b[0m\n\u001b[1;31mSyntaxError\u001b[0m\u001b[1;31m:\u001b[0m invalid syntax\n"
     ],
     "output_type": "error"
    }
   ],
   "source": [
    "# ## Zad 1\n",
    "# # # Napisz funkcję (lub funkcje), które zwrócą maksymalną spośród 3 liczb.\n",
    "# # # W rozwiązaniu skorzystaj tylko z możliwośći definiowania funkcji i używania w nich operatorów porównania\n",
    "# # # ## Zad 2\n",
    "# # # Napisz funkcję, która:\n",
    "# # # 1. Jeśli jej argument będzie listą, tuplą bądź zbiroem, zwróci sumę jej elementów\n",
    "# # # 2. Jeśli jej argument będzie słownikiem, zwróci sumę wartości\n",
    "# # # W obu przypadkach ignoruj napisy - o ile napisy nie reprezentują liczb\n",
    "# # # ## Zad 3\n",
    "# # # Napisz funkcję, która sprawdzi czy podany napis jest palindromem\n",
    "# # # ## zad 4\n",
    "# # # Napisz funkcję, które wypisze n pierwszych wierszy trójkąta Pascala\n",
    "# # # ## Zad 5\n",
    "# # # Napisz funkcję, która sprawdzi, czy napis jest pangramem.\n",
    "# # # ## Zad 6\n",
    "# # # Napisz funkcję, które sprawdzi, czy zadana liczba jest doskonała\n",
    "# # # ## Zad 7\n",
    "# # # Napisz dekorator, który będzie printował w konsoli czas wykonania dekorowanej funkcji."
   ]
  },
  {
   "cell_type": "code",
   "execution_count": null,
   "metadata": {},
   "outputs": [],
   "source": []
  },
  {
   "cell_type": "code",
   "execution_count": 10,
   "metadata": {},
   "outputs": [
    {
     "ename": "AssertionError",
     "evalue": "",
     "traceback": [
      "\u001b[1;31m---------------------------------------------------------------------------\u001b[0m",
      "\u001b[1;31mAssertionError\u001b[0m                            Traceback (most recent call last)",
      "\u001b[1;32m<ipython-input-10-f5fa0b559d90>\u001b[0m in \u001b[0;36m<module>\u001b[1;34m\u001b[0m\n\u001b[0;32m      1\u001b[0m \u001b[1;32massert\u001b[0m \u001b[1;36m0\u001b[0m \u001b[1;33m==\u001b[0m \u001b[0mmax_z_trzech\u001b[0m\u001b[1;33m(\u001b[0m\u001b[1;36m0\u001b[0m\u001b[1;33m,\u001b[0m\u001b[1;36m0\u001b[0m\u001b[1;33m,\u001b[0m\u001b[1;36m0\u001b[0m\u001b[1;33m)\u001b[0m\u001b[1;33m\u001b[0m\u001b[0m\n\u001b[1;32m----> 2\u001b[1;33m \u001b[1;32massert\u001b[0m \u001b[1;36m3\u001b[0m \u001b[1;33m==\u001b[0m \u001b[0mmax_z_trzech\u001b[0m\u001b[1;33m(\u001b[0m\u001b[1;36m1\u001b[0m\u001b[1;33m,\u001b[0m\u001b[1;36m2\u001b[0m\u001b[1;33m,\u001b[0m\u001b[1;36m3\u001b[0m\u001b[1;33m)\u001b[0m\u001b[1;33m\u001b[0m\u001b[0m\n\u001b[0m\u001b[0;32m      3\u001b[0m \u001b[1;32massert\u001b[0m \u001b[1;36m12\u001b[0m \u001b[1;33m==\u001b[0m \u001b[0mmax_z_trzech\u001b[0m\u001b[1;33m(\u001b[0m\u001b[1;36m10\u001b[0m\u001b[1;33m,\u001b[0m\u001b[1;36m2\u001b[0m\u001b[1;33m,\u001b[0m\u001b[1;33m-\u001b[0m\u001b[1;36m3\u001b[0m\u001b[1;33m)\u001b[0m\u001b[1;33m\u001b[0m\u001b[0m\n",
      "\u001b[1;31mAssertionError\u001b[0m: "
     ],
     "output_type": "error"
    }
   ],
   "source": [
    "assert 0 == max_z_trzech(0,0,0)\n",
    "assert 3 == max_z_trzech(1,2,3)\n",
    "assert 12 == max_z_trzech(10,2,-3)"
   ]
  },
  {
   "cell_type": "code",
   "execution_count": 7,
   "metadata": {},
   "outputs": [],
   "source": [
    "def max_z_dwoch(a,b):\n",
    "    if a > b:\n",
    "        return a\n",
    "    else:\n",
    "        return b\n",
    "    \n",
    "\n",
    "def max_z_trzech(x,y,z):\n",
    "    \n",
    "    return max_z_dwoch(x, max_z_dwoch(x, y))"
   ]
  },
  {
   "cell_type": "code",
   "execution_count": null,
   "metadata": {},
   "outputs": [],
   "source": [
    "assert sumator([1, 2, 3]) == 6\n",
    "assert sumator([10, 20, 30]) == 60\n",
    "assert sumator([1, 2, 'a', 3]) == 6\n",
    "assert sumator([1, 2, '4', 3]) == 10\n",
    "assert sumator({'a': 10, 1: 20, 'c': 30, 'd':})"
   ]
  },
  {
   "cell_type": "code",
   "execution_count": 12,
   "metadata": {},
   "outputs": [],
   "source": [
    "def sumator(arg):\n",
    "    total = 0\n",
    "    if isinstance(arg, dict):\n",
    "        arg = arg.values()\n",
    "    \n",
    "    for x in arg:\n",
    "        try:\n",
    "            x = int(x)\n",
    "            total += x\n",
    "        except ValueError:\n",
    "            pass\n",
    "    return total\n",
    "\n",
    "    \n",
    "    "
   ]
  },
  {
   "cell_type": "code",
   "execution_count": null,
   "metadata": {},
   "outputs": [],
   "source": []
  },
  {
   "cell_type": "code",
   "execution_count": null,
   "metadata": {},
   "outputs": [],
   "source": []
  },
  {
   "cell_type": "code",
   "execution_count": null,
   "metadata": {},
   "outputs": [],
   "source": []
  },
  {
   "cell_type": "code",
   "execution_count": null,
   "metadata": {},
   "outputs": [],
   "source": []
  }
 ],
 "metadata": {
  "kernelspec": {
   "display_name": "Python 3",
   "language": "python",
   "name": "python3"
  },
  "language_info": {
   "codemirror_mode": {
    "name": "ipython",
    "version": 3
   },
   "file_extension": ".py",
   "mimetype": "text/x-python",
   "name": "python",
   "nbconvert_exporter": "python",
   "pygments_lexer": "ipython3",
   "version": "3.7.0"
  }
 },
 "nbformat": 4,
 "nbformat_minor": 2
}
